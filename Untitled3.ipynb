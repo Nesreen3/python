{
 "cells": [
  {
   "cell_type": "code",
   "execution_count": 40,
   "id": "aec45970",
   "metadata": {},
   "outputs": [
    {
     "ename": "SyntaxError",
     "evalue": "invalid syntax (1984977330.py, line 18)",
     "output_type": "error",
     "traceback": [
      "\u001b[1;36m  File \u001b[1;32m\"C:\\Users\\EMARA\\AppData\\Local\\Temp\\ipykernel_12100\\1984977330.py\"\u001b[1;36m, line \u001b[1;32m18\u001b[0m\n\u001b[1;33m    print(number_1\"+\" , number_2,\"=\" add (number_1,number_2))\u001b[0m\n\u001b[1;37m                  ^\u001b[0m\n\u001b[1;31mSyntaxError\u001b[0m\u001b[1;31m:\u001b[0m invalid syntax\n"
     ]
    }
   ],
   "source": [
    "def add (num1,num2):\n",
    "    return num1 + numb2\n",
    "def subtraction (num1,numb2):\n",
    "    return num1 * numb2\n",
    "def multiply (num1,num2):\n",
    "    return num1 - numb2\n",
    "def divide (num1,num2):\n",
    "    return num1 / numb2\n",
    "print (\"please select operation-/n\"/\n",
    "      \"1.add/n\"/\n",
    "      \"2. subtraction/n\"/\n",
    "      \"3. multiply/n\"/\n",
    "      \"4. divide/n\")\n",
    "select = int ( input (\"select operation from 1,2,3,4:\"))\n",
    "number_1 = int (input(\"Enter first number:\"))\n",
    "number_2 = int (input(\"Enter second number:\"))\n",
    "if select == 1:\n",
    "    print(number_1\"+\" , number_2,\"=\" add (number_1,number_2))\n",
    "    elif select == 2:\n",
    "    print(number_1\"-\" , number_2,\"=\" subtraction (number_1,number_2))\n",
    "    elif select == 3:\n",
    "    print(number_1\"*\" , number_2,\"=\" multiply (number_1,number_2))\n",
    "    elif select == 4:\n",
    "    print(number_1\"/\" , number_2,\"=\" divide (number_1,number_2))\n",
    "    \n",
    "    \n",
    "    \n",
    "    \n",
    "\n"
   ]
  },
  {
   "cell_type": "code",
   "execution_count": 27,
   "id": "a7f26c96",
   "metadata": {},
   "outputs": [
    {
     "ename": "SyntaxError",
     "evalue": "invalid syntax (1279770994.py, line 3)",
     "output_type": "error",
     "traceback": [
      "\u001b[1;36m  File \u001b[1;32m\"C:\\Users\\EMARA\\AppData\\Local\\Temp\\ipykernel_12100\\1279770994.py\"\u001b[1;36m, line \u001b[1;32m3\u001b[0m\n\u001b[1;33m    def __init__(self, name, age, number of enrolled course):\u001b[0m\n\u001b[1;37m                                         ^\u001b[0m\n\u001b[1;31mSyntaxError\u001b[0m\u001b[1;31m:\u001b[0m invalid syntax\n"
     ]
    }
   ],
   "source": [
    "class students:\n",
    "    num_students = 0\n",
    "    def __init__(self, name, age, number of enrolled course):\n",
    "        self.name = name\n",
    "        self.age = age\n",
    "        self. number of enrolled course =  number of enrolled course\n",
    "        student.number_student +=1\n",
    "    \n",
    "   \n"
   ]
  },
  {
   "cell_type": "code",
   "execution_count": 28,
   "id": "cf56d49f",
   "metadata": {},
   "outputs": [
    {
     "ename": "SyntaxError",
     "evalue": "invalid syntax (1037949863.py, line 1)",
     "output_type": "error",
     "traceback": [
      "\u001b[1;36m  File \u001b[1;32m\"C:\\Users\\EMARA\\AppData\\Local\\Temp\\ipykernel_12100\\1037949863.py\"\u001b[1;36m, line \u001b[1;32m1\u001b[0m\n\u001b[1;33m    ahmed = student('ahmed'.9.8)\u001b[0m\n\u001b[1;37m                           ^\u001b[0m\n\u001b[1;31mSyntaxError\u001b[0m\u001b[1;31m:\u001b[0m invalid syntax\n"
     ]
    }
   ],
   "source": [
    "ahmed = student('ahmed'.9.8)"
   ]
  },
  {
   "cell_type": "code",
   "execution_count": null,
   "id": "4847d29c",
   "metadata": {},
   "outputs": [],
   "source": []
  },
  {
   "cell_type": "code",
   "execution_count": 31,
   "id": "d11737d7",
   "metadata": {},
   "outputs": [],
   "source": [
    "class students:\n",
    "    number_students = 0\n",
    "    def __init__(self, name, age, course):\n",
    "        self.name = name\n",
    "        self.age = age\n",
    "        self. course =  course\n",
    "        student.number_student +=1\n",
    "        \n",
    "        \n",
    "        "
   ]
  },
  {
   "cell_type": "code",
   "execution_count": 32,
   "id": "49dd47d0",
   "metadata": {},
   "outputs": [
    {
     "ename": "SyntaxError",
     "evalue": "invalid syntax (4185258399.py, line 1)",
     "output_type": "error",
     "traceback": [
      "\u001b[1;36m  File \u001b[1;32m\"C:\\Users\\EMARA\\AppData\\Local\\Temp\\ipykernel_12100\\4185258399.py\"\u001b[1;36m, line \u001b[1;32m1\u001b[0m\n\u001b[1;33m    ahmed = student('ahmed'.9.8)\u001b[0m\n\u001b[1;37m                           ^\u001b[0m\n\u001b[1;31mSyntaxError\u001b[0m\u001b[1;31m:\u001b[0m invalid syntax\n"
     ]
    }
   ],
   "source": [
    "ahmed = student('ahmed'.9.8)\n"
   ]
  },
  {
   "cell_type": "code",
   "execution_count": 33,
   "id": "cc70d61a",
   "metadata": {},
   "outputs": [
    {
     "ename": "NameError",
     "evalue": "name 'ahmed' is not defined",
     "output_type": "error",
     "traceback": [
      "\u001b[1;31m---------------------------------------------------------------------------\u001b[0m",
      "\u001b[1;31mNameError\u001b[0m                                 Traceback (most recent call last)",
      "\u001b[1;32m~\\AppData\\Local\\Temp\\ipykernel_12100\\1667063832.py\u001b[0m in \u001b[0;36m<module>\u001b[1;34m\u001b[0m\n\u001b[1;32m----> 1\u001b[1;33m \u001b[0mahmed\u001b[0m\u001b[1;33m\u001b[0m\u001b[1;33m\u001b[0m\u001b[0m\n\u001b[0m",
      "\u001b[1;31mNameError\u001b[0m: name 'ahmed' is not defined"
     ]
    }
   ],
   "source": [
    "ahmed"
   ]
  },
  {
   "cell_type": "code",
   "execution_count": null,
   "id": "7e21e264",
   "metadata": {},
   "outputs": [],
   "source": []
  },
  {
   "cell_type": "code",
   "execution_count": null,
   "id": "1bcb9c26",
   "metadata": {},
   "outputs": [],
   "source": []
  },
  {
   "cell_type": "code",
   "execution_count": null,
   "id": "b4433121",
   "metadata": {},
   "outputs": [],
   "source": []
  },
  {
   "cell_type": "code",
   "execution_count": null,
   "id": "30b346d5",
   "metadata": {},
   "outputs": [],
   "source": []
  },
  {
   "cell_type": "code",
   "execution_count": 22,
   "id": "96543564",
   "metadata": {},
   "outputs": [],
   "source": [
    "class Dog:\n",
    "    count = 0\n",
    "    def __init__(self , name , age):\n",
    "        self.name = name\n",
    "        self.age = age\n",
    "        Dog.count+=1\n",
    "    def disply (self):\n",
    "            print(\"name is {}, age is {}\".format(self.name,self.age))"
   ]
  },
  {
   "cell_type": "code",
   "execution_count": 26,
   "id": "0cb7b269",
   "metadata": {},
   "outputs": [
    {
     "name": "stdout",
     "output_type": "stream",
     "text": [
      "name is loly, age is 3\n"
     ]
    }
   ],
   "source": [
    " Dog2.disply()"
   ]
  },
  {
   "cell_type": "code",
   "execution_count": 25,
   "id": "4cd3d466",
   "metadata": {},
   "outputs": [],
   "source": [
    "Dog1=Dog(\"hh\",9)"
   ]
  },
  {
   "cell_type": "code",
   "execution_count": 24,
   "id": "7aecee76",
   "metadata": {},
   "outputs": [],
   "source": [
    "Dog2=Dog(\"loly\",3)"
   ]
  },
  {
   "cell_type": "code",
   "execution_count": null,
   "id": "0ab74a4e",
   "metadata": {},
   "outputs": [],
   "source": []
  },
  {
   "cell_type": "code",
   "execution_count": 36,
   "id": "41261ab2",
   "metadata": {},
   "outputs": [],
   "source": [
    "class students:\n",
    "   counter= 0\n",
    "    def __init__(self,name,age,courses):\n",
    "        self.name = name\n",
    "        self.age = age\n",
    "        self.courses = courses\n",
    "        student.num_students +=1\n",
    "    def disply (self):  \n",
    "        p"
   ]
  },
  {
   "cell_type": "code",
   "execution_count": 38,
   "id": "91201a9e",
   "metadata": {},
   "outputs": [
    {
     "ename": "NameError",
     "evalue": "name 'student' is not defined",
     "output_type": "error",
     "traceback": [
      "\u001b[1;31m---------------------------------------------------------------------------\u001b[0m",
      "\u001b[1;31mNameError\u001b[0m                                 Traceback (most recent call last)",
      "\u001b[1;32m~\\AppData\\Local\\Temp\\ipykernel_12100\\156861644.py\u001b[0m in \u001b[0;36m<module>\u001b[1;34m\u001b[0m\n\u001b[1;32m----> 1\u001b[1;33m \u001b[0mahmed\u001b[0m \u001b[1;33m=\u001b[0m \u001b[0mstudents\u001b[0m \u001b[1;33m(\u001b[0m\u001b[1;34m\"ahmed\"\u001b[0m\u001b[1;33m,\u001b[0m\u001b[1;36m56\u001b[0m\u001b[1;33m,\u001b[0m\u001b[1;36m8\u001b[0m\u001b[1;33m)\u001b[0m\u001b[1;33m\u001b[0m\u001b[1;33m\u001b[0m\u001b[0m\n\u001b[0m",
      "\u001b[1;32m~\\AppData\\Local\\Temp\\ipykernel_12100\\2474948522.py\u001b[0m in \u001b[0;36m__init__\u001b[1;34m(self, name, age, courses)\u001b[0m\n\u001b[0;32m      5\u001b[0m         \u001b[0mself\u001b[0m\u001b[1;33m.\u001b[0m\u001b[0mage\u001b[0m \u001b[1;33m=\u001b[0m \u001b[0mage\u001b[0m\u001b[1;33m\u001b[0m\u001b[1;33m\u001b[0m\u001b[0m\n\u001b[0;32m      6\u001b[0m         \u001b[0mself\u001b[0m\u001b[1;33m.\u001b[0m\u001b[0mcourses\u001b[0m \u001b[1;33m=\u001b[0m \u001b[0mcourses\u001b[0m\u001b[1;33m\u001b[0m\u001b[1;33m\u001b[0m\u001b[0m\n\u001b[1;32m----> 7\u001b[1;33m         \u001b[0mstudent\u001b[0m\u001b[1;33m.\u001b[0m\u001b[0mnum_students\u001b[0m \u001b[1;33m+=\u001b[0m\u001b[1;36m1\u001b[0m\u001b[1;33m\u001b[0m\u001b[1;33m\u001b[0m\u001b[0m\n\u001b[0m",
      "\u001b[1;31mNameError\u001b[0m: name 'student' is not defined"
     ]
    }
   ],
   "source": [
    "ahmed = students (\"ahmed\",56,8)"
   ]
  },
  {
   "cell_type": "code",
   "execution_count": null,
   "id": "7b37beb4",
   "metadata": {},
   "outputs": [],
   "source": []
  },
  {
   "cell_type": "code",
   "execution_count": null,
   "id": "858ccd2f",
   "metadata": {},
   "outputs": [],
   "source": []
  },
  {
   "cell_type": "code",
   "execution_count": null,
   "id": "27a9333d",
   "metadata": {},
   "outputs": [],
   "source": []
  },
  {
   "cell_type": "code",
   "execution_count": null,
   "id": "7695414d",
   "metadata": {},
   "outputs": [],
   "source": []
  },
  {
   "cell_type": "code",
   "execution_count": null,
   "id": "e8cfc3fd",
   "metadata": {},
   "outputs": [],
   "source": []
  },
  {
   "cell_type": "code",
   "execution_count": null,
   "id": "d44afdab",
   "metadata": {},
   "outputs": [],
   "source": []
  },
  {
   "cell_type": "code",
   "execution_count": null,
   "id": "37fef1b9",
   "metadata": {},
   "outputs": [],
   "source": []
  },
  {
   "cell_type": "code",
   "execution_count": null,
   "id": "52df33c8",
   "metadata": {},
   "outputs": [],
   "source": []
  }
 ],
 "metadata": {
  "kernelspec": {
   "display_name": "Python 3 (ipykernel)",
   "language": "python",
   "name": "python3"
  },
  "language_info": {
   "codemirror_mode": {
    "name": "ipython",
    "version": 3
   },
   "file_extension": ".py",
   "mimetype": "text/x-python",
   "name": "python",
   "nbconvert_exporter": "python",
   "pygments_lexer": "ipython3",
   "version": "3.9.13"
  }
 },
 "nbformat": 4,
 "nbformat_minor": 5
}
