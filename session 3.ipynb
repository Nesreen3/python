{
 "cells": [
  {
   "cell_type": "code",
   "execution_count": null,
   "id": "a65af847",
   "metadata": {},
   "outputs": [],
   "source": []
  },
  {
   "cell_type": "code",
   "execution_count": null,
   "id": "55dbcf27",
   "metadata": {},
   "outputs": [],
   "source": [
    "input_ = input(\"enter 2 words\")\n",
    "str1, str2 = input_.split()\n",
    "if str[0]== str2[0]:\n",
    "print (\"true\")\n",
    "else:\n",
    "print (\"false\")"
   ]
  },
  {
   "cell_type": "code",
   "execution_count": null,
   "id": "102bed68",
   "metadata": {},
   "outputs": [],
   "source": []
  }
 ],
 "metadata": {
  "kernelspec": {
   "display_name": "Python 3 (ipykernel)",
   "language": "python",
   "name": "python3"
  },
  "language_info": {
   "codemirror_mode": {
    "name": "ipython",
    "version": 3
   },
   "file_extension": ".py",
   "mimetype": "text/x-python",
   "name": "python",
   "nbconvert_exporter": "python",
   "pygments_lexer": "ipython3",
   "version": "3.9.13"
  }
 },
 "nbformat": 4,
 "nbformat_minor": 5
}
