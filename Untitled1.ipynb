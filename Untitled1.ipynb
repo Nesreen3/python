{
 "cells": [
  {
   "cell_type": "code",
   "execution_count": null,
   "id": "2c5796d4",
   "metadata": {},
   "outputs": [],
   "source": []
  },
  {
   "cell_type": "code",
   "execution_count": null,
   "id": "c3839248",
   "metadata": {},
   "outputs": [],
   "source": [
    "input_ = input(\"enter 2 words\")\n",
    "str1, str2 = input_.split()\n",
    "if str[0]== str2[0]:\n",
    "print (\"true\")\n",
    "else:\n",
    "print (\"false\")"
   ]
  }
 ],
 "metadata": {
  "kernelspec": {
   "display_name": "Python 3 (ipykernel)",
   "language": "python",
   "name": "python3"
  }
 },
 "nbformat": 4,
 "nbformat_minor": 5
}
